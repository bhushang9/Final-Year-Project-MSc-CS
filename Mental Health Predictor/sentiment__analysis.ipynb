{
 "cells": [
  {
   "cell_type": "code",
   "execution_count": 1,
   "id": "ae2b7128",
   "metadata": {},
   "outputs": [],
   "source": [
    "from textblob import TextBlob\n",
    "import pandas as pd\n",
    "\n",
    "#python -m streamlit run app.py"
   ]
  },
  {
   "cell_type": "code",
   "execution_count": 2,
   "id": "d7a20c91",
   "metadata": {},
   "outputs": [
    {
     "name": "stdout",
     "output_type": "stream",
     "text": [
      "                                               Entry Sentiment  Polarity Score\n",
      "0  I feel overwhelmed with work and anxious all t...  Negative       -0.250000\n",
      "1  Today was a really good day! I enjoyed spendin...  Positive        0.687500\n",
      "2  Nothing special happened today. Just a normal,...  Negative       -0.164286\n"
     ]
    }
   ],
   "source": [
    "# Sample journal entries\n",
    "journal_entries = [\n",
    "    \"I feel overwhelmed with work and anxious all the time.\",\n",
    "    \"Today was a really good day! I enjoyed spending time with friends.\",\n",
    "    \"Nothing special happened today. Just a normal, boring day.\"\n",
    "]\n",
    "\n",
    "# Function to analyze sentiment\n",
    "def analyze_sentiment(text):\n",
    "    blob = TextBlob(text)\n",
    "    polarity = blob.sentiment.polarity  # -1 to +1\n",
    "    if polarity > 0.1:\n",
    "        return 'Positive', polarity\n",
    "    elif polarity < -0.1:\n",
    "        return 'Negative', polarity\n",
    "    else:\n",
    "        return 'Neutral', polarity\n",
    "\n",
    "# Apply analysis\n",
    "results = []\n",
    "for entry in journal_entries:\n",
    "    sentiment, score = analyze_sentiment(entry)\n",
    "    results.append({\"Entry\": entry, \"Sentiment\": sentiment, \"Polarity Score\": score})\n",
    "\n",
    "# Display results\n",
    "df = pd.DataFrame(results)\n",
    "print(df)\n",
    "\n"
   ]
  }
 ],
 "metadata": {
  "kernelspec": {
   "display_name": "Python 3",
   "language": "python",
   "name": "python3"
  },
  "language_info": {
   "codemirror_mode": {
    "name": "ipython",
    "version": 3
   },
   "file_extension": ".py",
   "mimetype": "text/x-python",
   "name": "python",
   "nbconvert_exporter": "python",
   "pygments_lexer": "ipython3",
   "version": "3.12.0"
  }
 },
 "nbformat": 4,
 "nbformat_minor": 5
}
